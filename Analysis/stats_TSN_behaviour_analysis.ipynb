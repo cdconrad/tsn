{
 "cells": [
  {
   "cell_type": "markdown",
   "metadata": {},
   "source": [
    "# Analysis of behvaioural valence and arousal responses\n",
    "## Ordinal regression analysis using cumulative link models\n",
    "In this document we run the statistical comparisons of the behavioural responses using the self-assessment manikin (SAM)."
   ]
  },
  {
   "cell_type": "markdown",
   "metadata": {},
   "source": [
    "## Load necessary libraries\n",
    "If any of these don't load, you'll need to install them. Assuming you installed Jupyter through Anaconda, you would do the following to install a package\n",
    "`conda install -c r r-[pkgName]`\n",
    "e.g., to install ggplot2 you would do:\n",
    "`conda install -c r r-ggplot2`"
   ]
  },
  {
   "cell_type": "code",
   "execution_count": 1,
   "metadata": {},
   "outputs": [
    {
     "data": {
      "text/html": [
       "'/opt/conda/lib/R'"
      ],
      "text/latex": [
       "'/opt/conda/lib/R'"
      ],
      "text/markdown": [
       "'/opt/conda/lib/R'"
      ],
      "text/plain": [
       "[1] \"/opt/conda/lib/R\""
      ]
     },
     "metadata": {},
     "output_type": "display_data"
    }
   ],
   "source": [
    "R.home()"
   ]
  },
  {
   "cell_type": "code",
   "execution_count": 2,
   "metadata": {},
   "outputs": [
    {
     "name": "stderr",
     "output_type": "stream",
     "text": [
      "Warning message:\n",
      "“package ‘ggplot2’ was built under R version 4.0.5”\n",
      "Warning message:\n",
      "“package ‘plyr’ was built under R version 4.0.5”\n",
      "\n",
      "Attaching package: ‘psych’\n",
      "\n",
      "\n",
      "The following objects are masked from ‘package:ggplot2’:\n",
      "\n",
      "    %+%, alpha\n",
      "\n",
      "\n"
     ]
    }
   ],
   "source": [
    "library(ggplot2)\n",
    "library(plyr)\n",
    "library(tidyr)\n",
    "library(psych)\n",
    "library(ordinal)"
   ]
  },
  {
   "cell_type": "markdown",
   "metadata": {},
   "source": [
    "## Import data\n",
    "Data was prepared in `stats_TSN_behaviour_prep_vis` and exported to csv. We will import the data from the csv document."
   ]
  },
  {
   "cell_type": "code",
   "execution_count": 3,
   "metadata": {},
   "outputs": [],
   "source": [
    "data <- read.csv(\"sam_responses.csv\")"
   ]
  },
  {
   "cell_type": "code",
   "execution_count": 4,
   "metadata": {},
   "outputs": [],
   "source": [
    "vars <- c(\"pic_type\",\"Valence\",\"Arousal\",\"participant\")\n",
    "dat <- data[vars]"
   ]
  },
  {
   "cell_type": "code",
   "execution_count": 5,
   "metadata": {},
   "outputs": [
    {
     "data": {
      "text/html": [
       "<table class=\"dataframe\">\n",
       "<caption>A data.frame: 6 × 4</caption>\n",
       "<thead>\n",
       "\t<tr><th></th><th scope=col>pic_type</th><th scope=col>Valence</th><th scope=col>Arousal</th><th scope=col>participant</th></tr>\n",
       "\t<tr><th></th><th scope=col>&lt;chr&gt;</th><th scope=col>&lt;dbl&gt;</th><th scope=col>&lt;dbl&gt;</th><th scope=col>&lt;chr&gt;</th></tr>\n",
       "</thead>\n",
       "<tbody>\n",
       "\t<tr><th scope=row>1</th><td>posi</td><td>2</td><td>3</td><td>Participant_21</td></tr>\n",
       "\t<tr><th scope=row>2</th><td>warn</td><td>2</td><td>4</td><td>Participant_21</td></tr>\n",
       "\t<tr><th scope=row>3</th><td>onli</td><td>3</td><td>1</td><td>Participant_21</td></tr>\n",
       "\t<tr><th scope=row>4</th><td>nega</td><td>2</td><td>3</td><td>Participant_21</td></tr>\n",
       "\t<tr><th scope=row>5</th><td>neut</td><td>3</td><td>1</td><td>Participant_21</td></tr>\n",
       "\t<tr><th scope=row>6</th><td>posi</td><td>3</td><td>1</td><td>Participant_21</td></tr>\n",
       "</tbody>\n",
       "</table>\n"
      ],
      "text/latex": [
       "A data.frame: 6 × 4\n",
       "\\begin{tabular}{r|llll}\n",
       "  & pic\\_type & Valence & Arousal & participant\\\\\n",
       "  & <chr> & <dbl> & <dbl> & <chr>\\\\\n",
       "\\hline\n",
       "\t1 & posi & 2 & 3 & Participant\\_21\\\\\n",
       "\t2 & warn & 2 & 4 & Participant\\_21\\\\\n",
       "\t3 & onli & 3 & 1 & Participant\\_21\\\\\n",
       "\t4 & nega & 2 & 3 & Participant\\_21\\\\\n",
       "\t5 & neut & 3 & 1 & Participant\\_21\\\\\n",
       "\t6 & posi & 3 & 1 & Participant\\_21\\\\\n",
       "\\end{tabular}\n"
      ],
      "text/markdown": [
       "\n",
       "A data.frame: 6 × 4\n",
       "\n",
       "| <!--/--> | pic_type &lt;chr&gt; | Valence &lt;dbl&gt; | Arousal &lt;dbl&gt; | participant &lt;chr&gt; |\n",
       "|---|---|---|---|---|\n",
       "| 1 | posi | 2 | 3 | Participant_21 |\n",
       "| 2 | warn | 2 | 4 | Participant_21 |\n",
       "| 3 | onli | 3 | 1 | Participant_21 |\n",
       "| 4 | nega | 2 | 3 | Participant_21 |\n",
       "| 5 | neut | 3 | 1 | Participant_21 |\n",
       "| 6 | posi | 3 | 1 | Participant_21 |\n",
       "\n"
      ],
      "text/plain": [
       "  pic_type Valence Arousal participant   \n",
       "1 posi     2       3       Participant_21\n",
       "2 warn     2       4       Participant_21\n",
       "3 onli     3       1       Participant_21\n",
       "4 nega     2       3       Participant_21\n",
       "5 neut     3       1       Participant_21\n",
       "6 posi     3       1       Participant_21"
      ]
     },
     "metadata": {},
     "output_type": "display_data"
    }
   ],
   "source": [
    "head(dat)"
   ]
  },
  {
   "cell_type": "markdown",
   "metadata": {},
   "source": [
    "### Use the psych library to determine normality\n",
    "In this case, Valence and arousal have negative kurtosis. This should be incorporated in the model."
   ]
  },
  {
   "cell_type": "code",
   "execution_count": 6,
   "metadata": {},
   "outputs": [
    {
     "data": {
      "text/html": [
       "<table class=\"dataframe\">\n",
       "<caption>A psych: 4 × 13</caption>\n",
       "<thead>\n",
       "\t<tr><th></th><th scope=col>vars</th><th scope=col>n</th><th scope=col>mean</th><th scope=col>sd</th><th scope=col>median</th><th scope=col>trimmed</th><th scope=col>mad</th><th scope=col>min</th><th scope=col>max</th><th scope=col>range</th><th scope=col>skew</th><th scope=col>kurtosis</th><th scope=col>se</th></tr>\n",
       "\t<tr><th></th><th scope=col>&lt;int&gt;</th><th scope=col>&lt;dbl&gt;</th><th scope=col>&lt;dbl&gt;</th><th scope=col>&lt;dbl&gt;</th><th scope=col>&lt;dbl&gt;</th><th scope=col>&lt;dbl&gt;</th><th scope=col>&lt;dbl&gt;</th><th scope=col>&lt;dbl&gt;</th><th scope=col>&lt;dbl&gt;</th><th scope=col>&lt;dbl&gt;</th><th scope=col>&lt;dbl&gt;</th><th scope=col>&lt;dbl&gt;</th><th scope=col>&lt;dbl&gt;</th></tr>\n",
       "</thead>\n",
       "<tbody>\n",
       "\t<tr><th scope=row>pic_type*</th><td>1</td><td>3360</td><td> 3.000000</td><td>1.414424</td><td> 3</td><td> 3.000000</td><td>1.4826</td><td>1</td><td> 5</td><td> 4</td><td>0.0000000</td><td>-1.3010118</td><td>0.02440113</td></tr>\n",
       "\t<tr><th scope=row>Valence</th><td>2</td><td>3360</td><td> 2.825893</td><td>1.010388</td><td> 3</td><td> 2.835565</td><td>1.4826</td><td>1</td><td> 5</td><td> 4</td><td>0.1055602</td><td>-0.4221817</td><td>0.01743084</td></tr>\n",
       "\t<tr><th scope=row>Arousal</th><td>3</td><td>3360</td><td> 2.348214</td><td>1.226213</td><td> 2</td><td> 2.239583</td><td>1.4826</td><td>1</td><td> 5</td><td> 4</td><td>0.5385153</td><td>-0.7863592</td><td>0.02115419</td></tr>\n",
       "\t<tr><th scope=row>participant*</th><td>4</td><td>3360</td><td>11.000000</td><td>6.056202</td><td>11</td><td>11.000000</td><td>7.4130</td><td>1</td><td>21</td><td>20</td><td>0.0000000</td><td>-1.2065226</td><td>0.10447941</td></tr>\n",
       "</tbody>\n",
       "</table>\n"
      ],
      "text/latex": [
       "A psych: 4 × 13\n",
       "\\begin{tabular}{r|lllllllllllll}\n",
       "  & vars & n & mean & sd & median & trimmed & mad & min & max & range & skew & kurtosis & se\\\\\n",
       "  & <int> & <dbl> & <dbl> & <dbl> & <dbl> & <dbl> & <dbl> & <dbl> & <dbl> & <dbl> & <dbl> & <dbl> & <dbl>\\\\\n",
       "\\hline\n",
       "\tpic\\_type* & 1 & 3360 &  3.000000 & 1.414424 &  3 &  3.000000 & 1.4826 & 1 &  5 &  4 & 0.0000000 & -1.3010118 & 0.02440113\\\\\n",
       "\tValence & 2 & 3360 &  2.825893 & 1.010388 &  3 &  2.835565 & 1.4826 & 1 &  5 &  4 & 0.1055602 & -0.4221817 & 0.01743084\\\\\n",
       "\tArousal & 3 & 3360 &  2.348214 & 1.226213 &  2 &  2.239583 & 1.4826 & 1 &  5 &  4 & 0.5385153 & -0.7863592 & 0.02115419\\\\\n",
       "\tparticipant* & 4 & 3360 & 11.000000 & 6.056202 & 11 & 11.000000 & 7.4130 & 1 & 21 & 20 & 0.0000000 & -1.2065226 & 0.10447941\\\\\n",
       "\\end{tabular}\n"
      ],
      "text/markdown": [
       "\n",
       "A psych: 4 × 13\n",
       "\n",
       "| <!--/--> | vars &lt;int&gt; | n &lt;dbl&gt; | mean &lt;dbl&gt; | sd &lt;dbl&gt; | median &lt;dbl&gt; | trimmed &lt;dbl&gt; | mad &lt;dbl&gt; | min &lt;dbl&gt; | max &lt;dbl&gt; | range &lt;dbl&gt; | skew &lt;dbl&gt; | kurtosis &lt;dbl&gt; | se &lt;dbl&gt; |\n",
       "|---|---|---|---|---|---|---|---|---|---|---|---|---|---|\n",
       "| pic_type* | 1 | 3360 |  3.000000 | 1.414424 |  3 |  3.000000 | 1.4826 | 1 |  5 |  4 | 0.0000000 | -1.3010118 | 0.02440113 |\n",
       "| Valence | 2 | 3360 |  2.825893 | 1.010388 |  3 |  2.835565 | 1.4826 | 1 |  5 |  4 | 0.1055602 | -0.4221817 | 0.01743084 |\n",
       "| Arousal | 3 | 3360 |  2.348214 | 1.226213 |  2 |  2.239583 | 1.4826 | 1 |  5 |  4 | 0.5385153 | -0.7863592 | 0.02115419 |\n",
       "| participant* | 4 | 3360 | 11.000000 | 6.056202 | 11 | 11.000000 | 7.4130 | 1 | 21 | 20 | 0.0000000 | -1.2065226 | 0.10447941 |\n",
       "\n"
      ],
      "text/plain": [
       "             vars n    mean      sd       median trimmed   mad    min max range\n",
       "pic_type*    1    3360  3.000000 1.414424  3      3.000000 1.4826 1    5   4   \n",
       "Valence      2    3360  2.825893 1.010388  3      2.835565 1.4826 1    5   4   \n",
       "Arousal      3    3360  2.348214 1.226213  2      2.239583 1.4826 1    5   4   \n",
       "participant* 4    3360 11.000000 6.056202 11     11.000000 7.4130 1   21  20   \n",
       "             skew      kurtosis   se        \n",
       "pic_type*    0.0000000 -1.3010118 0.02440113\n",
       "Valence      0.1055602 -0.4221817 0.01743084\n",
       "Arousal      0.5385153 -0.7863592 0.02115419\n",
       "participant* 0.0000000 -1.2065226 0.10447941"
      ]
     },
     "metadata": {},
     "output_type": "display_data"
    }
   ],
   "source": [
    "describe(dat)"
   ]
  },
  {
   "cell_type": "markdown",
   "metadata": {},
   "source": [
    "### Convert to factor"
   ]
  },
  {
   "cell_type": "code",
   "execution_count": 7,
   "metadata": {},
   "outputs": [],
   "source": [
    "dat$pic_type <- as.factor(dat$pic_type)\n",
    "dat$Valence <- as.factor(dat$Valence)\n",
    "dat$Arousal <- as.factor(dat$Arousal)"
   ]
  },
  {
   "cell_type": "markdown",
   "metadata": {},
   "source": [
    "### Valence"
   ]
  },
  {
   "cell_type": "code",
   "execution_count": 8,
   "metadata": {},
   "outputs": [],
   "source": [
    "dat$pic_type <- relevel(dat$pic_type, 'warn')"
   ]
  },
  {
   "cell_type": "code",
   "execution_count": 9,
   "metadata": {},
   "outputs": [
    {
     "data": {
      "text/plain": [
       "         Valence   1   2   3   4   5\n",
       "pic_type                            \n",
       "warn              58 413 180  19   2\n",
       "nega             238 293 102  38   1\n",
       "neut              12 117 391 137  15\n",
       "onli               4  81 480  96  11\n",
       "posi               4  33 143 348 144"
      ]
     },
     "metadata": {},
     "output_type": "display_data"
    }
   ],
   "source": [
    "ftable(Valence ~ pic_type, data=dat)"
   ]
  },
  {
   "cell_type": "markdown",
   "metadata": {},
   "source": [
    "#### Specify the model\n",
    "We will use the `cauchit` link which is designed for models with inconsistent kurtosis."
   ]
  },
  {
   "cell_type": "code",
   "execution_count": 10,
   "metadata": {},
   "outputs": [
    {
     "data": {
      "text/plain": [
       "formula: Valence ~ pic_type\n",
       "data:    dat\n",
       "\n",
       " link    threshold nobs logLik   AIC     niter max.grad cond.H \n",
       " cauchit flexible  3360 -3715.85 7447.71 5(0)  6.43e-10 3.7e+01\n",
       "\n",
       "Coefficients:\n",
       "             Estimate Std. Error z value Pr(>|z|)    \n",
       "pic_typenega -0.50270    0.06054  -8.303   <2e-16 ***\n",
       "pic_typeneut  1.14881    0.06198  18.535   <2e-16 ***\n",
       "pic_typeonli  1.15788    0.06226  18.599   <2e-16 ***\n",
       "pic_typeposi  2.35117    0.06874  34.204   <2e-16 ***\n",
       "---\n",
       "Signif. codes:  0 ‘***’ 0.001 ‘**’ 0.01 ‘*’ 0.05 ‘.’ 0.1 ‘ ’ 1\n",
       "\n",
       "Threshold coefficients:\n",
       "    Estimate Std. Error z value\n",
       "1|2 -1.05192    0.04962 -21.200\n",
       "2|3  0.35042    0.04437   7.898\n",
       "3|4  1.84683    0.05382  34.313\n",
       "4|5  3.15300    0.06901  45.691"
      ]
     },
     "metadata": {},
     "output_type": "display_data"
    }
   ],
   "source": [
    "val <- clm(Valence ~ pic_type, link = \"cauchit\", data=dat)\n",
    "summary(val)"
   ]
  },
  {
   "cell_type": "markdown",
   "metadata": {},
   "source": [
    "### Arousal"
   ]
  },
  {
   "cell_type": "code",
   "execution_count": 11,
   "metadata": {},
   "outputs": [
    {
     "data": {
      "text/plain": [
       "         Arousal   1   2   3   4   5\n",
       "pic_type                            \n",
       "warn             110 250 174 112  26\n",
       "nega              76 132 157 199 108\n",
       "neut             311 148 132  62  19\n",
       "onli             306 218  98  28  22\n",
       "posi             267 186 101 103  15"
      ]
     },
     "metadata": {},
     "output_type": "display_data"
    }
   ],
   "source": [
    "ftable(Arousal ~ pic_type, data=dat)"
   ]
  },
  {
   "cell_type": "markdown",
   "metadata": {},
   "source": [
    "#### Specify the model\n",
    "We will again use the `cauchit` link here."
   ]
  },
  {
   "cell_type": "code",
   "execution_count": 12,
   "metadata": {},
   "outputs": [
    {
     "data": {
      "text/plain": [
       "formula: Arousal ~ pic_type\n",
       "data:    dat\n",
       "\n",
       " link    threshold nobs logLik   AIC     niter max.grad cond.H \n",
       " cauchit flexible  3360 -4730.12 9476.25 4(0)  1.73e-08 7.4e+01\n",
       "\n",
       "Coefficients:\n",
       "             Estimate Std. Error z value Pr(>|z|)    \n",
       "pic_typenega  0.53428    0.05748   9.295  < 2e-16 ***\n",
       "pic_typeneut -0.54857    0.05870  -9.346  < 2e-16 ***\n",
       "pic_typeonli -0.65283    0.05903 -11.060  < 2e-16 ***\n",
       "pic_typeposi -0.41739    0.05815  -7.178 7.08e-13 ***\n",
       "---\n",
       "Signif. codes:  0 ‘***’ 0.001 ‘**’ 0.01 ‘*’ 0.05 ‘.’ 0.1 ‘ ’ 1\n",
       "\n",
       "Threshold coefficients:\n",
       "    Estimate Std. Error z value\n",
       "1|2 -0.73951    0.04338 -17.047\n",
       "2|3  0.04423    0.04177   1.059\n",
       "3|4  0.67804    0.04343  15.612\n",
       "4|5  1.52236    0.05192  29.321"
      ]
     },
     "metadata": {},
     "output_type": "display_data"
    }
   ],
   "source": [
    "aro <- clm(Arousal ~ pic_type, link = 'cauchit', data=dat)\n",
    "summary(aro)"
   ]
  }
 ],
 "metadata": {
  "anaconda-cloud": {},
  "kernel_info": {
   "name": "ir"
  },
  "kernelspec": {
   "display_name": "R",
   "language": "R",
   "name": "ir"
  },
  "language_info": {
   "codemirror_mode": "r",
   "file_extension": ".r",
   "mimetype": "text/x-r-source",
   "name": "R",
   "pygments_lexer": "r",
   "version": "4.0.3"
  },
  "nteract": {
   "version": "0.8.4"
  }
 },
 "nbformat": 4,
 "nbformat_minor": 4
}
